{
 "cells": [
  {
   "cell_type": "code",
   "execution_count": 1,
   "id": "8ec39a38-98b3-4878-a20c-c9297442ca02",
   "metadata": {},
   "outputs": [
    {
     "name": "stdout",
     "output_type": "stream",
     "text": [
      "/home/ildefonso/Documents/repos/vocalpy/Nicholson-Cohen-2023\n"
     ]
    }
   ],
   "source": [
    "cd /home/ildefonso/Documents/repos/vocalpy/Nicholson-Cohen-2023"
   ]
  },
  {
   "cell_type": "markdown",
   "id": "1f1e6e00-c913-4c5d-a06a-b1ee6db62851",
   "metadata": {},
   "source": [
    "# tweetynet-canary dataset prep\n",
    "\n",
    "This script documents how the dataset was prepared from the canary dataset accompanying the TweetyNet paper.\n",
    "\n",
    "It assumes that the dataset has been downloaded and that all the audio (wav) files and annotation (csv) files have been moved into a single directory, below called `data_dir`."
   ]
  },
  {
   "cell_type": "code",
   "execution_count": 1,
   "id": "f19d1201-256f-4eaf-b586-a9af01d4b517",
   "metadata": {},
   "outputs": [],
   "source": [
    "from collections import Counter\n",
    "import json\n",
    "import pathlib\n",
    "\n",
    "import crowsetta\n",
    "import numpy as np\n",
    "import vocalpy as voc"
   ]
  },
  {
   "cell_type": "markdown",
   "id": "79d0b4db-efc9-488c-88c0-a6747927f6d7",
   "metadata": {},
   "source": [
    "## Remapping labels\n",
    "\n",
    "To combine song from all 3 birds into one dataset, we first re-label so labels across all birds are unique."
   ]
  },
  {
   "cell_type": "code",
   "execution_count": 2,
   "id": "d9078ff1-20fb-4759-a33e-237fda30ed5b",
   "metadata": {},
   "outputs": [],
   "source": [
    "labelsets = {\n",
    "    'llb3': [str(int_lbl) for int_lbl in range(1, 21)],\n",
    "    'llb11': [str(int_lbl) for int_lbl in range(1, 28)],\n",
    "    'llb16': [str(int_lbl) for int_lbl in range(1, 31)],\n",
    "}"
   ]
  },
  {
   "cell_type": "code",
   "execution_count": 3,
   "id": "e2d53deb-e7c5-43b2-9959-2ac69ac93690",
   "metadata": {},
   "outputs": [],
   "source": [
    "# start at 1, not 0, so we don't confusingly clash with \"unlabeled\" class\n",
    "ctr = 1\n",
    "new_labelsets = {}\n",
    "for bird_id, labelset in labelsets.items():\n",
    "    new_labelset = [str(int_lbl) for int_lbl in range(ctr, ctr + len(labelset))]\n",
    "    assert len(new_labelset) == len(labelset)\n",
    "    new_labelsets[bird_id] = new_labelset\n",
    "    ctr += len(labelset)"
   ]
  },
  {
   "cell_type": "code",
   "execution_count": 4,
   "id": "c22b89c7-7bfe-4ec7-b5ba-e43fc385928d",
   "metadata": {},
   "outputs": [
    {
     "name": "stdout",
     "output_type": "stream",
     "text": [
      "{'llb3': ['1', '2', '3', '4', '5', '6', '7', '8', '9', '10', '11', '12', '13', '14', '15', '16', '17', '18', '19', '20'], 'llb11': ['21', '22', '23', '24', '25', '26', '27', '28', '29', '30', '31', '32', '33', '34', '35', '36', '37', '38', '39', '40', '41', '42', '43', '44', '45', '46', '47'], 'llb16': ['48', '49', '50', '51', '52', '53', '54', '55', '56', '57', '58', '59', '60', '61', '62', '63', '64', '65', '66', '67', '68', '69', '70', '71', '72', '73', '74', '75', '76', '77']}\n"
     ]
    }
   ],
   "source": [
    "print(new_labelsets)"
   ]
  },
  {
   "cell_type": "code",
   "execution_count": 5,
   "id": "7d0dd2b7-ecea-4ca0-bba1-1f955035c1da",
   "metadata": {},
   "outputs": [],
   "source": [
    "relabel_mapping = {}\n",
    "for bird_id in labelsets.keys():\n",
    "    relabel_mapping[bird_id] = dict(\n",
    "        zip(\n",
    "            labelsets[bird_id], new_labelsets[bird_id]\n",
    "        )\n",
    "    )"
   ]
  },
  {
   "cell_type": "code",
   "execution_count": 8,
   "id": "d5f1d8ef-be34-4b97-b060-27698b5ced20",
   "metadata": {},
   "outputs": [],
   "source": [
    "with pathlib.Path('./data/tweetynet-canary-all-birds-relabel-mapping.json').open('w') as fp:\n",
    "    json.dump(relabel_mapping, fp, indent=4)"
   ]
  },
  {
   "cell_type": "code",
   "execution_count": 6,
   "id": "47dfc3b8-96e6-4469-a730-bed0f95ed480",
   "metadata": {},
   "outputs": [],
   "source": [
    "data_dir = pathlib.Path(\n",
    "    '/home/ildefonso/Documents/data/vocal/tweetynet-canary-dataset/all-birds/'\n",
    ")"
   ]
  },
  {
   "cell_type": "markdown",
   "id": "a11d00e7-9d49-48cf-ba74-eb37575b9b41",
   "metadata": {},
   "source": [
    "Next cell verifies we have occurrences of all labels, before re-labeling"
   ]
  },
  {
   "cell_type": "code",
   "execution_count": 17,
   "id": "fccfb575-0c5a-4fa7-8fd2-205246ca0cf9",
   "metadata": {},
   "outputs": [
    {
     "name": "stdout",
     "output_type": "stream",
     "text": [
      "Counting label occurrences in 2655 annotation files for bird: llb3\n",
      "Counts:\n",
      "[('1', 40074), ('2', 32220), ('3', 164597), ('4', 616), ('5', 719), ('6', 15888), ('7', 10923), ('8', 10269), ('9', 3833), ('10', 1434), ('11', 21444), ('12', 4512), ('13', 3688), ('14', 11335), ('15', 127), ('16', 1084), ('17', 3271), ('18', 23919), ('19', 2063), ('20', 1355)]\n",
      "Counting label occurrences in 2031 annotation files for bird: llb11\n",
      "Counts:\n",
      "[('1', 47112), ('2', 41450), ('3', 3339), ('4', 545), ('5', 12250), ('6', 2529), ('7', 49691), ('8', 49959), ('9', 24504), ('10', 15096), ('11', 3625), ('12', 2920), ('13', 1294), ('14', 5682), ('15', 4234), ('16', 4600), ('17', 344), ('18', 23470), ('19', 8732), ('20', 6223), ('21', 9750), ('22', 352), ('23', 1627), ('24', 1420), ('25', 621), ('26', 77), ('27', 5169)]\n",
      "Counting label occurrences in 1452 annotation files for bird: llb16\n",
      "Counts:\n",
      "[('1', 29663), ('2', 24330), ('3', 3546), ('4', 14875), ('5', 5245), ('6', 1686), ('7', 4516), ('8', 9885), ('9', 4877), ('10', 10421), ('11', 7886), ('12', 14929), ('13', 18772), ('14', 1575), ('15', 2827), ('16', 3596), ('17', 3109), ('18', 214), ('19', 416), ('20', 190), ('21', 1997), ('22', 468), ('23', 206), ('24', 2909), ('25', 3070), ('26', 4621), ('27', 14431), ('28', 4192), ('29', 49098), ('30', 978)]\n"
     ]
    }
   ],
   "source": [
    "scribe = crowsetta.Transcriber(format='simple-seq')\n",
    "\n",
    "for bird_id, labelset in labelsets.items():\n",
    "    bird_csvs = sorted(data_dir.glob(f'{bird_id}*.wav.csv'))\n",
    "    print(f'Counting label occurrences in {len(bird_csvs)} annotation files for bird: {bird_id}')\n",
    "    simple_seqs = [scribe.from_file(bird_csv) for bird_csv in bird_csvs]\n",
    "    counts = Counter([\n",
    "        lbl for simpleseq in simple_seqs for lbl in simpleseq.labels\n",
    "    ])\n",
    "    print(f\"Counts:\\n{sorted(counts.items(), key=lambda tup: int(tup[0])}\")"
   ]
  },
  {
   "cell_type": "code",
   "execution_count": 11,
   "id": "e890a76a-756e-466f-bf89-af3984974b6d",
   "metadata": {},
   "outputs": [
    {
     "name": "stdout",
     "output_type": "stream",
     "text": [
      "Label mapping (old to new): {'1': '1', '2': '2', '3': '3', '4': '4', '5': '5', '6': '6', '7': '7', '8': '8', '9': '9', '10': '10', '11': '11', '12': '12', '13': '13', '14': '14', '15': '15', '16': '16', '17': '17', '18': '18', '19': '19', '20': '20'}\n",
      "Relabeling 2655 annotations\n",
      "Label mapping (old to new): {'1': '21', '2': '22', '3': '23', '4': '24', '5': '25', '6': '26', '7': '27', '8': '28', '9': '29', '10': '30', '11': '31', '12': '32', '13': '33', '14': '34', '15': '35', '16': '36', '17': '37', '18': '38', '19': '39', '20': '40', '21': '41', '22': '42', '23': '43', '24': '44', '25': '45', '26': '46', '27': '47'}\n",
      "Relabeling 2031 annotations\n",
      "Label mapping (old to new): {'1': '48', '2': '49', '3': '50', '4': '51', '5': '52', '6': '53', '7': '54', '8': '55', '9': '56', '10': '57', '11': '58', '12': '59', '13': '60', '14': '61', '15': '62', '16': '63', '17': '64', '18': '65', '19': '66', '20': '67', '21': '68', '22': '69', '23': '70', '24': '71', '25': '72', '26': '73', '27': '74', '28': '75', '29': '76', '30': '77'}\n",
      "Relabeling 1452 annotations\n"
     ]
    }
   ],
   "source": [
    "scribe = crowsetta.Transcriber(format='simple-seq')\n",
    "\n",
    "for bird_id, labelmap in relabel_mapping.items():\n",
    "    print(f\"Label mapping (old to new): {labelmap}\")\n",
    "\n",
    "    bird_csvs = sorted(data_dir.glob(f'{bird_id}*.wav.csv'))\n",
    "    print(f'Relabeling {len(bird_csvs)} annotations')\n",
    "    simple_seqs = [scribe.from_file(bird_csv) for bird_csv in bird_csvs]\n",
    "    for simple_seq in simple_seqs:\n",
    "        simple_seq.labels = [labelmap[str(label)] if str(label) in labelmap else str(label)\n",
    "                             for label in simple_seq.labels.tolist()]\n",
    "        simple_seq.to_file(simple_seq.annot_path)"
   ]
  },
  {
   "cell_type": "markdown",
   "id": "5e327a27-0c2c-4e2f-a116-915f7bd55a2e",
   "metadata": {},
   "source": [
    "## Make sure there are no onsets less than zero\n",
    "\n",
    "We also need to make sure there are no onsets less than zero. This is a quirk of the Matlab GUI annotator, that it sometimes sets the first onset to be less than zero, so we fix it in the annotations."
   ]
  },
  {
   "cell_type": "code",
   "execution_count": 14,
   "id": "35a85b70-9e1e-49db-9b42-c1cd00054e3f",
   "metadata": {},
   "outputs": [
    {
     "name": "stdout",
     "output_type": "stream",
     "text": [
      "Fixing onset times less than 0 in 2655 annotations\n",
      "Bird ID: llb3, n. seqs with onsets less than 0: 0, n. seqs with offsets less than 0: 0\n",
      "Fixing onset times less than 0 in 2031 annotations\n",
      "Bird ID: llb11, n. seqs with onsets less than 0: 0, n. seqs with offsets less than 0: 0\n",
      "Fixing onset times less than 0 in 1452 annotations\n",
      "Bird ID: llb16, n. seqs with onsets less than 0: 0, n. seqs with offsets less than 0: 0\n"
     ]
    }
   ],
   "source": [
    "scribe = crowsetta.Transcriber(format='simple-seq')\n",
    "\n",
    "for bird_id in relabel_mapping.keys():\n",
    "    bird_csvs = sorted(data_dir.glob(f'{bird_id}*.wav.csv'))\n",
    "    print(f'Fixing onset times less than 0 in {len(bird_csvs)} annotations')\n",
    "    simple_seqs = [scribe.from_file(bird_csv) for bird_csv in bird_csvs]\n",
    "    n_onsets_lt_0 = 0\n",
    "    for simple_seq in simple_seqs:\n",
    "        if np.any(simple_seq.onsets_s < 0.):\n",
    "            n_onsets_lt_0 += 1\n",
    "    print(f\"Bird ID: {bird_id}, n. seqs with onsets less than 0: {n_onsets_lt_0}, n. seqs with offsets less than 0: {n_offsets_lt_0}\")\n",
    "        # simple_seq.to_file(simple_seq.annot_path)\n"
   ]
  },
  {
   "cell_type": "markdown",
   "id": "07c5318f-42e1-45eb-a998-f440df0a4e74",
   "metadata": {},
   "source": [
    "Finally fix any other weird quirks that prevent us from computing segmentation metrics"
   ]
  },
  {
   "cell_type": "markdown",
   "id": "94964128-33ed-49cc-a448-112d8ba1e2e4",
   "metadata": {},
   "source": [
    "## Remove any remaining annotation files where all onset/offset times are not strictly increasing\n",
    "\n",
    "There are a few cases where onset or offset times are not strictly increasing -- the segments overlap with each other slightly.\n",
    "Rather than fix this by hand we just remove these few files."
   ]
  },
  {
   "cell_type": "code",
   "execution_count": 7,
   "id": "da3cd49a-64ca-49f1-bb6e-e587ca0d9743",
   "metadata": {},
   "outputs": [],
   "source": [
    "from collections import defaultdict"
   ]
  },
  {
   "cell_type": "code",
   "execution_count": 15,
   "id": "8932fdb4-4983-4aa5-82c0-e06e97b9519c",
   "metadata": {},
   "outputs": [
    {
     "name": "stdout",
     "output_type": "stream",
     "text": [
      "Checking onset and offset times from 2655 annotations\n",
      "Checking onset and offset times from 2031 annotations\n",
      "Checking onset and offset times from 1452 annotations\n"
     ]
    }
   ],
   "source": [
    "scribe = crowsetta.Transcriber(format='simple-seq')\n",
    "\n",
    "needs_removing = defaultdict(list)\n",
    "\n",
    "for bird_id in relabel_mapping.keys():\n",
    "    bird_csvs = sorted(data_dir.glob(f'{bird_id}*.wav.csv'))\n",
    "    print(f'Checking onset and offset times from {len(bird_csvs)} annotations')\n",
    "    simple_seqs = [scribe.from_file(bird_csv) for bird_csv in bird_csvs]\n",
    "    for simple_seq in simple_seqs:\n",
    "        try:\n",
    "            voc.metrics.segmentation.ir.concat_starts_and_stops(simple_seq.onsets_s, simple_seq.offsets_s)\n",
    "        except:\n",
    "            needs_removing[bird_id].append(\n",
    "                simple_seq\n",
    "            )"
   ]
  },
  {
   "cell_type": "code",
   "execution_count": 20,
   "id": "13dfcdfd-1476-4e91-9bcf-9112b0bc96ff",
   "metadata": {},
   "outputs": [
    {
     "name": "stdout",
     "output_type": "stream",
     "text": [
      "Number that will be removed from dataset for bird ID llb3: 17 / 2655 = 0.64%\n",
      "Number that will be removed from dataset for bird ID llb11: 4 / 2031 = 0.20%\n",
      "No issue with onset/offset times for bird ID: llb16\n"
     ]
    }
   ],
   "source": [
    "for bird_id in relabel_mapping.keys():\n",
    "    if bird_id not in needs_removing:\n",
    "        print(f\"No issue with onset/offset times for bird ID: {bird_id}\")\n",
    "    else:\n",
    "        bird_csvs = sorted(data_dir.glob(f'{bird_id}*.wav.csv'))\n",
    "        n_that_need_removing = len(needs_removing[bird_id])\n",
    "        print(\n",
    "            f\"Number that will be removed from dataset for bird ID {bird_id}: {n_that_need_removing} / {len(bird_csvs)} = \"\n",
    "            f\"{n_that_need_removing / len(bird_csvs) * 100:.2f}%\"\n",
    "        )"
   ]
  },
  {
   "cell_type": "code",
   "execution_count": 26,
   "id": "d82c3beb-8711-44e1-bb5f-8a7fd85eecb1",
   "metadata": {},
   "outputs": [
    {
     "name": "stdout",
     "output_type": "stream",
     "text": [
      "Removing 17 wav files + annotations for bird ID: llb3\n",
      "Removing 4 wav files + annotations for bird ID: llb11\n"
     ]
    }
   ],
   "source": [
    "for bird_id, needs_removing_list in needs_removing.items():\n",
    "    print(f\"Removing {len(needs_removing_list)} wav files + annotations for bird ID: {bird_id}\")\n",
    "    for simpleseq_to_remove in needs_removing_list:\n",
    "        simpleseq_to_remove.annot_path.unlink()\n",
    "        wav_path_to_remove = simpleseq_to_remove.annot_path.parent / simpleseq_to_remove.annot_path.name.replace('.csv', '')\n",
    "        wav_path_to_remove.unlink()"
   ]
  },
  {
   "cell_type": "markdown",
   "id": "2bc1ac89-4377-41f8-8594-a567394f63db",
   "metadata": {},
   "source": [
    "Confirm we removed them"
   ]
  },
  {
   "cell_type": "code",
   "execution_count": 28,
   "id": "6e260c2f-b55c-4897-87f9-49dec4d135d9",
   "metadata": {},
   "outputs": [],
   "source": [
    "for bird_id, needs_removing_list in needs_removing.items():\n",
    "    for simpleseq_to_remove in needs_removing_list:\n",
    "        assert not simpleseq_to_remove.annot_path.exists()\n",
    "        wav_path_to_remove = simpleseq_to_remove.annot_path.parent / simpleseq_to_remove.annot_path.name.replace('.csv', '')\n",
    "        assert not wav_path_to_remove.exists()"
   ]
  }
 ],
 "metadata": {
  "kernelspec": {
   "display_name": "Python 3 (ipykernel)",
   "language": "python",
   "name": "python3"
  },
  "language_info": {
   "codemirror_mode": {
    "name": "ipython",
    "version": 3
   },
   "file_extension": ".py",
   "mimetype": "text/x-python",
   "name": "python",
   "nbconvert_exporter": "python",
   "pygments_lexer": "ipython3",
   "version": "3.10.11"
  }
 },
 "nbformat": 4,
 "nbformat_minor": 5
}
